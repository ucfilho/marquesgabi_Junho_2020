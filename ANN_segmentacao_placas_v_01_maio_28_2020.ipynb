{
  "nbformat": 4,
  "nbformat_minor": 0,
  "metadata": {
    "colab": {
      "name": "ANN_segmentacao_placas_v_01_maio_28_2020.ipynb",
      "provenance": [],
      "collapsed_sections": [],
      "authorship_tag": "ABX9TyPk6dDHEhqzRCYT6Plioikc",
      "include_colab_link": true
    },
    "kernelspec": {
      "name": "python3",
      "display_name": "Python 3"
    }
  },
  "cells": [
    {
      "cell_type": "markdown",
      "metadata": {
        "id": "view-in-github",
        "colab_type": "text"
      },
      "source": [
        "<a href=\"https://colab.research.google.com/github/ucfilho/marquesgabi_Junho_2020/blob/master/ANN_segmentacao_placas_v_01_maio_28_2020.ipynb\" target=\"_parent\"><img src=\"https://colab.research.google.com/assets/colab-badge.svg\" alt=\"Open In Colab\"/></a>"
      ]
    },
    {
      "cell_type": "code",
      "metadata": {
        "id": "Sog7Z9pyhUD_",
        "colab_type": "code",
        "colab": {}
      },
      "source": [
        "import matplotlib.pyplot as plt\n",
        "import numpy as np\n",
        "import cv2\n",
        "import zipfile\n",
        "#import random\n",
        "from random import randint\n",
        "from PIL import Image\n",
        "import re\n",
        "from sklearn.model_selection import train_test_split\n",
        "#import scikit-image\n",
        "import skimage"
      ],
      "execution_count": 0,
      "outputs": []
    },
    {
      "cell_type": "code",
      "metadata": {
        "id": "uZEvJvfoibE4",
        "colab_type": "code",
        "outputId": "866b849c-961e-423a-8f74-7b7edf2ed7ac",
        "colab": {
          "base_uri": "https://localhost:8080/",
          "height": 51
        }
      },
      "source": [
        "!pip install mahotas"
      ],
      "execution_count": 2,
      "outputs": [
        {
          "output_type": "stream",
          "text": [
            "Requirement already satisfied: mahotas in /usr/local/lib/python3.6/dist-packages (1.4.9)\n",
            "Requirement already satisfied: numpy in /usr/local/lib/python3.6/dist-packages (from mahotas) (1.18.4)\n"
          ],
          "name": "stdout"
        }
      ]
    },
    {
      "cell_type": "code",
      "metadata": {
        "id": "nf_a6PJ1iUnT",
        "colab_type": "code",
        "colab": {}
      },
      "source": [
        "import mahotas.features.texture as mht\n",
        "import mahotas.features"
      ],
      "execution_count": 0,
      "outputs": []
    },
    {
      "cell_type": "code",
      "metadata": {
        "id": "_VcTdaNVh9EE",
        "colab_type": "code",
        "outputId": "1aacf0cf-f821-4995-c0de-f6bdfec342ed",
        "colab": {
          "base_uri": "https://localhost:8080/",
          "height": 51
        }
      },
      "source": [
        "!git clone https://github.com/ucfilho/marquesgabi_fev_2020 #clonar do Github\n",
        "%cd marquesgabi_fev_2020\n",
        "\n",
        "import Go2BlackWhite\n",
        "import Go2Mahotas"
      ],
      "execution_count": 4,
      "outputs": [
        {
          "output_type": "stream",
          "text": [
            "fatal: destination path 'marquesgabi_fev_2020' already exists and is not an empty directory.\n",
            "/content/marquesgabi_fev_2020\n"
          ],
          "name": "stdout"
        }
      ]
    },
    {
      "cell_type": "code",
      "metadata": {
        "id": "B5T26owLl9eh",
        "colab_type": "code",
        "colab": {}
      },
      "source": [
        "# TensorFlow and tf.keras\n",
        "import tensorflow as tf\n",
        "from tensorflow import keras"
      ],
      "execution_count": 0,
      "outputs": []
    },
    {
      "cell_type": "code",
      "metadata": {
        "id": "1v7SRrc8mH2N",
        "colab_type": "code",
        "outputId": "de606bc4-b6b8-4f9b-a839-c7baace3662c",
        "colab": {
          "base_uri": "https://localhost:8080/",
          "height": 51
        }
      },
      "source": [
        "''''''\n",
        "!git clone https://github.com/marquesgabi/Doutorado\n",
        "%cd Doutorado\n",
        "Transfere='Fotos9Amostras720_e_varios_graos.zip'\n",
        "file_name = zipfile.ZipFile(Transfere, 'r')\n",
        "file_name.extractall()\n"
      ],
      "execution_count": 6,
      "outputs": [
        {
          "output_type": "stream",
          "text": [
            "fatal: destination path 'Doutorado' already exists and is not an empty directory.\n",
            "/content/marquesgabi_fev_2020/Doutorado\n"
          ],
          "name": "stdout"
        }
      ]
    },
    {
      "cell_type": "code",
      "metadata": {
        "id": "LqP_rCvAmyy0",
        "colab_type": "code",
        "colab": {
          "base_uri": "https://localhost:8080/",
          "height": 54
        },
        "outputId": "0f07eb8e-8eac-49ee-f841-8cb7fee5b54e"
      },
      "source": [
        "labels = []\n",
        "images = []\n",
        "with zipfile.ZipFile(Transfere, \"r\") as f:\n",
        "  for f in f.namelist():\n",
        "    #images.append(skimage.data.imread(f))\n",
        "    images.append(cv2.imread(f))\n",
        "    labels.append(f)\n",
        " # labels.append(int(d))\\\n",
        "'''\n",
        " with zipfile.ZipFile(Transfere, \"r\") as f:\n",
        "    for name in f.namelist():\n",
        "      img_name.append(name)\n",
        "      #xw.append(cv2.imread(name))\n",
        "'''"
      ],
      "execution_count": 7,
      "outputs": [
        {
          "output_type": "execute_result",
          "data": {
            "text/plain": [
              "'\\n with zipfile.ZipFile(Transfere, \"r\") as f:\\n    for name in f.namelist():\\n      img_name.append(name)\\n      #xw.append(cv2.imread(name))\\n'"
            ]
          },
          "metadata": {
            "tags": []
          },
          "execution_count": 7
        }
      ]
    },
    {
      "cell_type": "code",
      "metadata": {
        "id": "F-Qq37JkmzzJ",
        "colab_type": "code",
        "outputId": "7e74da74-4939-4821-ac21-4ddda23f8ffc",
        "colab": {
          "base_uri": "https://localhost:8080/",
          "height": 34
        }
      },
      "source": [
        "'''\n",
        "ww,img_name=Go2BlackWhite.BlackWhite(Transfere,Size)\n",
        "plt.axis(\"off\")\n",
        "plt.imshow(ww[10], cmap = \"gray\")\n",
        "'''"
      ],
      "execution_count": 8,
      "outputs": [
        {
          "output_type": "execute_result",
          "data": {
            "text/plain": [
              "'\\nww,img_name=Go2BlackWhite.BlackWhite(Transfere,Size)\\nplt.axis(\"off\")\\nplt.imshow(ww[10], cmap = \"gray\")\\n'"
            ]
          },
          "metadata": {
            "tags": []
          },
          "execution_count": 8
        }
      ]
    },
    {
      "cell_type": "code",
      "metadata": {
        "id": "l7Ri0y6htVO3",
        "colab_type": "code",
        "colab": {
          "base_uri": "https://localhost:8080/",
          "height": 92
        },
        "outputId": "f7a04904-4da7-4788-d0e0-e2a43e1fc964"
      },
      "source": [
        "# Import the `pyplot` module of `matplotlib`\n",
        "import matplotlib.pyplot as plt\n",
        "\n",
        "# Determine the (random) indexes of the images that you want to see \n",
        "traffic_signs = [25, 30, 36, 40]\n",
        "\n",
        "# Fill out the subplots with the random images that you defined \n",
        "for i in range(len(traffic_signs)):\n",
        "    plt.subplot(1, 4, i+1)\n",
        "    plt.axis('off')\n",
        "    plt.imshow(images[traffic_signs[i]])\n",
        "    plt.subplots_adjust(wspace=0.5)\n",
        "\n",
        "plt.show()"
      ],
      "execution_count": 9,
      "outputs": [
        {
          "output_type": "display_data",
          "data": {
            "image/png": "[encoded data removed]",
            "text/plain": [
              "<Figure size 432x288 with 4 Axes>"
            ]
          },
          "metadata": {
            "tags": [],
            "needs_background": "light"
          }
        }
      ]
    },
    {
      "cell_type": "code",
      "metadata": {
        "id": "7Bm-Hc13xiv-",
        "colab_type": "code",
        "colab": {}
      },
      "source": [
        "# Import the `transform` module from `skimage`\n",
        "from skimage import transform \n",
        "\n",
        "# Rescale the images in the `images` array\n",
        "images28 = [transform.resize(image, (28, 28)) for image in images]"
      ],
      "execution_count": 0,
      "outputs": []
    },
    {
      "cell_type": "code",
      "metadata": {
        "id": "jiGKMblZyyfX",
        "colab_type": "code",
        "colab": {}
      },
      "source": [
        "# Import `rgb2gray` from `skimage.color`\n",
        "from skimage.color import rgb2gray\n",
        "\n",
        "# Convert `images28` to an array\n",
        "images28 = np.array(images28)\n",
        "\n",
        "# Convert `images28` to grayscale\n",
        "images28 = rgb2gray(images28)"
      ],
      "execution_count": 0,
      "outputs": []
    },
    {
      "cell_type": "code",
      "metadata": {
        "id": "QwqoG3RpzD1U",
        "colab_type": "code",
        "colab": {
          "base_uri": "https://localhost:8080/",
          "height": 92
        },
        "outputId": "fc0b93a9-bc8b-4e66-dc03-7b7d1f01c07d"
      },
      "source": [
        "for i in range(len(traffic_signs)):\n",
        "    plt.subplot(1, 4, i+1)\n",
        "    plt.axis('off')\n",
        "    plt.imshow(images28[traffic_signs[i]], cmap=\"gray\")\n",
        "    plt.subplots_adjust(wspace=0.5)\n",
        "    \n",
        "# Show the plot\n",
        "plt.show()"
      ],
      "execution_count": 12,
      "outputs": [
        {
          "output_type": "display_data",
          "data": {
            "image/png": "[encoded data removed]",
            "text/plain": [
              "<Figure size 432x288 with 4 Axes>"
            ]
          },
          "metadata": {
            "tags": [],
            "needs_background": "light"
          }
        }
      ]
    },
    {
      "cell_type": "code",
      "metadata": {
        "id": "KXkOQklinHMw",
        "colab_type": "code",
        "outputId": "4fbf08dd-647e-4ace-f1b6-5c8d729cf4d5",
        "colab": {
          "base_uri": "https://localhost:8080/",
          "height": 71
        }
      },
      "source": [
        "y_valor=[]\n",
        "\n",
        "img_name=labels\n",
        "\n",
        "Graos='G' # numero 1\n",
        "Indef='I' # numero 2\n",
        "Buraco='B' # numero 3\n",
        "Varios='V' # numero 4\n",
        "\n",
        "for x in img_name:\n",
        "  if re.search(Graos, x):\n",
        "    y_valor.append(1)\n",
        "  elif re.search(Indef, x):\n",
        "    y_valor.append(2)\n",
        "  elif re.search(Buraco, x):\n",
        "    y_valor.append(3)\n",
        "  else:\n",
        "    y_valor.append(4)\n",
        "    \n",
        "print(y_valor)\n",
        "print(len(y_valor))"
      ],
      "execution_count": 13,
      "outputs": [
        {
          "output_type": "stream",
          "text": [
            "[1, 1, 1, 1, 1, 1, 1, 1, 1, 1, 1, 1, 1, 1, 1, 1, 1, 1, 1, 1, 4, 4, 4, 4, 4, 4, 3, 3, 3, 3, 3, 3, 3, 3, 3, 3, 1, 1, 1, 1, 1, 1, 1, 1, 1, 1, 2, 2, 2, 2, 2, 2, 2, 2, 2, 2, 4, 4, 4, 4, 4, 4, 3, 3, 3, 3, 3, 3, 3, 3, 3, 3, 1, 1, 1, 1, 1, 1, 1, 1, 1, 1, 2, 2, 2, 2, 2, 2, 2, 2, 2, 2, 4, 4, 4, 4, 4, 4, 3, 3, 3, 3, 3, 3, 3, 3, 3, 3, 1, 1, 1, 1, 1, 1, 1, 1, 1, 1, 2, 2, 2, 2, 2, 2, 2, 2, 2, 2, 4, 4, 4, 4, 4, 4, 3, 3, 3, 3, 3, 3, 3, 3, 3, 3, 1, 1, 1, 1, 1, 1, 1, 1, 1, 1, 2, 2, 2, 2, 2, 2, 2, 2, 2, 2, 4, 4, 4, 4, 4, 4, 1, 1, 1, 1, 1, 1, 1, 1, 1, 1, 1, 1, 1, 1, 1, 1, 1, 1, 1, 1, 4, 4, 4, 4, 4, 4, 3, 3, 3, 3, 3, 3, 3, 3, 3, 3, 1, 1, 1, 1, 1, 1, 1, 1, 1, 1, 2, 2, 2, 2, 2, 2, 2, 2, 2, 2, 4, 4, 4, 4, 4, 4, 3, 3, 3, 3, 3, 3, 3, 3, 3, 3, 1, 1, 1, 1, 1, 1, 1, 1, 1, 1, 2, 2, 2, 2, 2, 2, 2, 2, 2, 2, 4, 4, 4, 4, 4, 4, 1, 1, 1, 1, 1, 1, 1, 1, 1, 1, 1, 1, 1, 1, 1, 1, 1, 1, 1, 1, 4, 4, 4, 4, 4, 4, 3, 3, 3, 3, 3, 3, 3, 3, 3, 3, 1, 1, 1, 1, 1, 1, 1, 1, 1, 1, 2, 2, 2, 2, 2, 2, 2, 2, 2, 2, 4, 4, 4, 4, 4, 4, 3, 3, 3, 3, 3, 3, 3, 3, 3, 3, 1, 1, 1, 1, 1, 1, 1, 1, 1, 1, 2, 2, 2, 2, 2, 2, 2, 2, 2, 2, 4, 4, 4, 4, 4, 4, 1, 1, 1, 1, 1, 1, 1, 1, 1, 1, 1, 1, 1, 1, 1, 1, 1, 1, 1, 1, 4, 4, 4, 4, 4, 4, 3, 3, 3, 3, 3, 3, 3, 3, 3, 3, 1, 1, 1, 1, 1, 1, 1, 1, 1, 1, 2, 2, 2, 2, 2, 2, 2, 2, 2, 2, 4, 4, 4, 4, 4, 4, 1, 1, 1, 1, 1, 1, 1, 1, 1, 1, 1, 1, 1, 1, 1, 1, 1, 1, 1, 1, 4, 4, 4, 4, 4, 4, 3, 3, 3, 3, 3, 3, 3, 3, 3, 3, 1, 1, 1, 1, 1, 1, 1, 1, 1, 1, 2, 2, 2, 2, 2, 2, 2, 2, 2, 2, 4, 4, 4, 4, 4, 4, 3, 3, 3, 3, 3, 3, 3, 3, 3, 3, 1, 1, 1, 1, 1, 1, 1, 1, 1, 1, 2, 2, 2, 2, 2, 2, 2, 2, 2, 2, 4, 4, 4, 4, 4, 4, 3, 3, 3, 3, 3, 3, 3, 3, 3, 3, 1, 1, 1, 1, 1, 1, 1, 1, 1, 1, 2, 2, 2, 2, 2, 2, 2, 2, 2, 2, 4, 4, 4, 4, 4, 4, 1, 1, 1, 1, 1, 1, 1, 1, 1, 1, 1, 1, 1, 1, 1, 1, 1, 1, 1, 1, 4, 4, 4, 4, 4, 4, 1, 1, 1, 1, 1, 1, 1, 1, 1, 1, 1, 1, 1, 1, 1, 1, 1, 1, 1, 1, 4, 4, 4, 4, 4, 4, 3, 3, 3, 3, 3, 3, 3, 3, 3, 3, 1, 1, 1, 1, 1, 1, 1, 1, 1, 1, 2, 2, 2, 2, 2, 2, 2, 2, 2, 2, 4, 4, 4, 4, 4, 4, 3, 3, 3, 3, 3, 3, 3, 3, 3, 3, 1, 1, 1, 1, 1, 1, 1, 1, 1, 1, 2, 2, 2, 2, 2, 2, 2, 2, 2, 2, 4, 4, 4, 4, 4, 4, 3, 3, 3, 3, 3, 3, 3, 3, 3, 3, 1, 1, 1, 1, 1, 1, 1, 1, 1, 1, 2, 2, 2, 2, 2, 2, 2, 2, 2, 2, 4, 4, 4, 4, 4, 4, 3, 3, 3, 3, 3, 3, 3, 3, 3, 3, 1, 1, 1, 1, 1, 1, 1, 1, 1, 1, 2, 2, 2, 2, 2, 2, 2, 2, 2, 2, 4, 4, 4, 4, 4, 4, 1, 1, 1, 1, 1, 1, 1, 1, 1, 1, 1, 1, 1, 1, 1, 1, 1, 1, 1, 1, 4, 4, 4, 4, 4, 4, 1, 1, 1, 1, 1, 1, 1, 1, 1, 1, 1, 1, 1, 1, 1, 1, 1, 1, 1, 1, 4, 4, 4, 4, 4, 4, 3, 3, 3, 3, 3, 3, 3, 3, 3, 3, 1, 1, 1, 1, 1, 1, 1, 1, 1, 1, 2, 2, 2, 2, 2, 2, 2, 2, 2, 2, 4, 4, 4, 4, 4, 4, 3, 3, 3, 3, 3, 3, 3, 3, 3, 3, 1, 1, 1, 1, 1, 1, 1, 1, 1, 1, 2, 2, 2, 2, 2, 2, 2, 2, 2, 2, 4, 4, 4, 4, 4, 4]\n",
            "882\n"
          ],
          "name": "stdout"
        }
      ]
    },
    {
      "cell_type": "code",
      "metadata": {
        "id": "xt9nry6z0q5t",
        "colab_type": "code",
        "colab": {}
      },
      "source": [
        "#sparse_softmax_cross_entropy_with_logits()"
      ],
      "execution_count": 0,
      "outputs": []
    },
    {
      "cell_type": "code",
      "metadata": {
        "id": "XIO1Gs7n0to9",
        "colab_type": "code",
        "colab": {
          "base_uri": "https://localhost:8080/",
          "height": 234
        },
        "outputId": "577811a3-1eb2-4687-c881-0789c0468c5d"
      },
      "source": [
        "# Import `tensorflow` \n",
        "import tensorflow as tf \n",
        "\n",
        "# Initialize placeholders \n",
        "x = tf.placeholder(dtype = tf.float32, shape = [None, 28, 28])\n",
        "y = tf.placeholder(dtype = tf.int32, shape = [None])\n",
        "\n",
        "# Flatten the input data\n",
        "images_flat = tf.contrib.layers.flatten(x)"
      ],
      "execution_count": 15,
      "outputs": [
        {
          "output_type": "error",
          "ename": "AttributeError",
          "evalue": "ignored",
          "traceback": [
            "\u001b[0;31m---------------------------------------------------------------------------\u001b[0m",
            "\u001b[0;31mAttributeError\u001b[0m                            Traceback (most recent call last)",
            "\u001b[0;32m<ipython-input-15-fa6de76c9406>\u001b[0m in \u001b[0;36m<module>\u001b[0;34m()\u001b[0m\n\u001b[1;32m      3\u001b[0m \u001b[0;34m\u001b[0m\u001b[0m\n\u001b[1;32m      4\u001b[0m \u001b[0;31m# Initialize placeholders\u001b[0m\u001b[0;34m\u001b[0m\u001b[0;34m\u001b[0m\u001b[0;34m\u001b[0m\u001b[0m\n\u001b[0;32m----> 5\u001b[0;31m \u001b[0mx\u001b[0m \u001b[0;34m=\u001b[0m \u001b[0mtf\u001b[0m\u001b[0;34m.\u001b[0m\u001b[0mplaceholder\u001b[0m\u001b[0;34m(\u001b[0m\u001b[0mdtype\u001b[0m \u001b[0;34m=\u001b[0m \u001b[0mtf\u001b[0m\u001b[0;34m.\u001b[0m\u001b[0mfloat32\u001b[0m\u001b[0;34m,\u001b[0m \u001b[0mshape\u001b[0m \u001b[0;34m=\u001b[0m \u001b[0;34m[\u001b[0m\u001b[0;32mNone\u001b[0m\u001b[0;34m,\u001b[0m \u001b[0;36m28\u001b[0m\u001b[0;34m,\u001b[0m \u001b[0;36m28\u001b[0m\u001b[0;34m]\u001b[0m\u001b[0;34m)\u001b[0m\u001b[0;34m\u001b[0m\u001b[0;34m\u001b[0m\u001b[0m\n\u001b[0m\u001b[1;32m      6\u001b[0m \u001b[0my\u001b[0m \u001b[0;34m=\u001b[0m \u001b[0mtf\u001b[0m\u001b[0;34m.\u001b[0m\u001b[0mplaceholder\u001b[0m\u001b[0;34m(\u001b[0m\u001b[0mdtype\u001b[0m \u001b[0;34m=\u001b[0m \u001b[0mtf\u001b[0m\u001b[0;34m.\u001b[0m\u001b[0mint32\u001b[0m\u001b[0;34m,\u001b[0m \u001b[0mshape\u001b[0m \u001b[0;34m=\u001b[0m \u001b[0;34m[\u001b[0m\u001b[0;32mNone\u001b[0m\u001b[0;34m]\u001b[0m\u001b[0;34m)\u001b[0m\u001b[0;34m\u001b[0m\u001b[0;34m\u001b[0m\u001b[0m\n\u001b[1;32m      7\u001b[0m \u001b[0;34m\u001b[0m\u001b[0m\n",
            "\u001b[0;31mAttributeError\u001b[0m: module 'tensorflow' has no attribute 'placeholder'"
          ]
        }
      ]
    },
    {
      "cell_type": "code",
      "metadata": {
        "id": "ZZ1nX_qHnMI5",
        "colab_type": "code",
        "colab": {}
      },
      "source": [
        "W_train, W_test, yw_train, yw_test = train_test_split(np.array(ww), np.array(y_valor), \n",
        "                                                    test_size=0.30, \n",
        "                                                    random_state=42)"
      ],
      "execution_count": 0,
      "outputs": []
    },
    {
      "cell_type": "code",
      "metadata": {
        "id": "bqZ8_j8Dr1OQ",
        "colab_type": "code",
        "colab": {}
      },
      "source": [
        ""
      ],
      "execution_count": 0,
      "outputs": []
    },
    {
      "cell_type": "code",
      "metadata": {
        "id": "cyUmN-FnsDYY",
        "colab_type": "code",
        "colab": {}
      },
      "source": [
        "print(len(yw_train))\n",
        "print(len(yw_test))"
      ],
      "execution_count": 0,
      "outputs": []
    },
    {
      "cell_type": "code",
      "metadata": {
        "id": "sgc_0CtenQxt",
        "colab_type": "code",
        "colab": {}
      },
      "source": [
        "train_images=W_train\n",
        "train_labels=yw_train\n",
        "test_images=W_test\n",
        "test_labels=yw_test"
      ],
      "execution_count": 0,
      "outputs": []
    },
    {
      "cell_type": "code",
      "metadata": {
        "id": "5y9_Ff6cnUjY",
        "colab_type": "code",
        "colab": {}
      },
      "source": [
        "\n",
        "model = keras.Sequential([\n",
        "    keras.layers.Flatten(input_shape=(28, 28)),\n",
        "    keras.layers.Dense(128, activation='relu'),\n",
        "    keras.layers.Dense(10)\n",
        "])\n",
        "''''''"
      ],
      "execution_count": 0,
      "outputs": []
    },
    {
      "cell_type": "code",
      "metadata": {
        "id": "videnX4gnVcB",
        "colab_type": "code",
        "colab": {}
      },
      "source": [
        "model.compile(optimizer='adam',\n",
        "              loss=tf.keras.losses.SparseCategoricalCrossentropy(from_logits=True),\n",
        "              metrics=['accuracy'])"
      ],
      "execution_count": 0,
      "outputs": []
    },
    {
      "cell_type": "code",
      "metadata": {
        "id": "I0S8kMxnnYmn",
        "colab_type": "code",
        "colab": {}
      },
      "source": [
        "model.fit(train_images, train_labels, epochs=10)"
      ],
      "execution_count": 0,
      "outputs": []
    },
    {
      "cell_type": "code",
      "metadata": {
        "id": "qBw_-BgIkrSd",
        "colab_type": "code",
        "colab": {}
      },
      "source": [
        "#print(type(train_images))\n",
        "#print(train_images[2])"
      ],
      "execution_count": 0,
      "outputs": []
    },
    {
      "cell_type": "code",
      "metadata": {
        "id": "KAafOO1LrPp5",
        "colab_type": "code",
        "colab": {}
      },
      "source": [
        "predictions = model.predict(train_images) #x_test[:3])\n",
        "print('predictions shape:', predictions.shape)"
      ],
      "execution_count": 0,
      "outputs": []
    },
    {
      "cell_type": "code",
      "metadata": {
        "id": "17t_18_tm2pS",
        "colab_type": "code",
        "colab": {}
      },
      "source": [
        "print(predictions)"
      ],
      "execution_count": 0,
      "outputs": []
    },
    {
      "cell_type": "code",
      "metadata": {
        "id": "E_KyNHWirth7",
        "colab_type": "code",
        "colab": {}
      },
      "source": [
        "print(train_images.shape)"
      ],
      "execution_count": 0,
      "outputs": []
    },
    {
      "cell_type": "code",
      "metadata": {
        "id": "jSci8mCwlyTt",
        "colab_type": "code",
        "colab": {}
      },
      "source": [
        "#print(train_images[0])\n",
        "result = model.evaluate(train_images) # esta estranho\n",
        "print(result)\n",
        "result = model.predict(train_images) # esta estranho\n",
        "print(result)"
      ],
      "execution_count": 0,
      "outputs": []
    },
    {
      "cell_type": "code",
      "metadata": {
        "id": "0Cx1aUikhp2N",
        "colab_type": "code",
        "colab": {}
      },
      "source": [
        "Size=1200 # tamanho da foto\n",
        "Sub_Size=int(Size/5) # tamanho do fracionamento\n",
        "Row_Crop=1/2 # posicao do corte\n",
        "Crop=int(Size*Row_Crop)"
      ],
      "execution_count": 0,
      "outputs": []
    },
    {
      "cell_type": "code",
      "metadata": {
        "id": "8ayUf2FDhc6c",
        "colab_type": "code",
        "colab": {}
      },
      "source": [
        "# img = img_as_float(astronaut()[::2, ::2])\n",
        "\n",
        "Transfere='Fotos_Grandes_3cdAmostra.zip'\n",
        "#Nome='Q6-1-4.jpg'\n",
        "file_name = zipfile.ZipFile(Transfere, 'r')\n",
        "file_name.extractall()\n",
        "#img=cv2.imread(Nome)"
      ],
      "execution_count": 0,
      "outputs": []
    },
    {
      "cell_type": "code",
      "metadata": {
        "id": "0kA4IWSmasoD",
        "colab_type": "code",
        "colab": {}
      },
      "source": [
        "ww,img_name=Go2BlackWhite.BlackWhite(Transfere,Size)\n",
        "img=ww[0]"
      ],
      "execution_count": 0,
      "outputs": []
    },
    {
      "cell_type": "code",
      "metadata": {
        "id": "SnTtH3KDP863",
        "colab_type": "code",
        "colab": {}
      },
      "source": [
        "print(img.shape)"
      ],
      "execution_count": 0,
      "outputs": []
    },
    {
      "cell_type": "code",
      "metadata": {
        "id": "J6TsOqZQZ3iY",
        "colab_type": "code",
        "colab": {}
      },
      "source": [
        "plt.imshow(img, cmap = \"gray\")"
      ],
      "execution_count": 0,
      "outputs": []
    },
    {
      "cell_type": "code",
      "metadata": {
        "id": "HLzM4Qypkkrb",
        "colab_type": "code",
        "colab": {}
      },
      "source": [
        "a=0\n",
        "b=1200\n",
        "c=100\n",
        "d=200\n",
        "Num=50\n",
        "ww=[]\n",
        "label=[]\n",
        "\n",
        "for i in range(Num):\n",
        "  #x=random.randint(a, b)\n",
        "  #y=random.randint(a, b)\n",
        "  #Width=random.randint(c, d)\n",
        "  x=randint(a, b)\n",
        "  y=randint(a, b)\n",
        "  Width=randint(c, d)\n",
        "  img_1st=np.zeros((Width,Width)).astype(np.int64)\n",
        "\n",
        "  for i in range(Width):\n",
        "    for j in range(Width):\n",
        "\n",
        "      size_x=Width+x\n",
        "      size_y=Width+y\n",
        "    \n",
        "      if(size_x>=Size):\n",
        "        x=Size-Width\n",
        "\n",
        "      if(size_y>= Size):\n",
        "        y=Size-Width\n",
        "\n",
        "      img_1st[i,j]=np.copy(img[i+y,j+x])\n",
        "  ww.append(img_1st)\n",
        "  nome = \"W=\" + str(Width)+\" x=\"+str(x)+\" y=\"+str(y)\n",
        "  label.append(nome)\n"
      ],
      "execution_count": 0,
      "outputs": []
    },
    {
      "cell_type": "code",
      "metadata": {
        "id": "V3BWgHinTpqH",
        "colab_type": "code",
        "colab": {}
      },
      "source": [
        "Num=25\n",
        "plt.figure(figsize=(10,10))\n",
        "for i in range(Num):\n",
        "    plt.subplot(5,5,i+1)\n",
        "    plt.xticks([])\n",
        "    plt.yticks([])\n",
        "    plt.grid(False)\n",
        "    plt.imshow(ww[i], cmap = \"gray\")\n",
        "    plt.xlabel(label[i])\n",
        "plt.show()\n"
      ],
      "execution_count": 0,
      "outputs": []
    },
    {
      "cell_type": "code",
      "metadata": {
        "id": "VWwgzDqnI1QT",
        "colab_type": "code",
        "colab": {}
      },
      "source": [
        "Num=25\n",
        "plt.figure(figsize=(10,10))\n",
        "for i in range(Num):\n",
        "    plt.subplot(5,5,i+1)\n",
        "    plt.xticks([])\n",
        "    plt.yticks([])\n",
        "    plt.grid(False)\n",
        "    plt.imshow(ww[i+25], cmap = \"gray\")\n",
        "    plt.xlabel(label[i+25])\n",
        "plt.show()"
      ],
      "execution_count": 0,
      "outputs": []
    },
    {
      "cell_type": "code",
      "metadata": {
        "colab_type": "code",
        "id": "_KXbQ4zwdA6C",
        "colab": {}
      },
      "source": [
        "print(label)"
      ],
      "execution_count": 0,
      "outputs": []
    },
    {
      "cell_type": "code",
      "metadata": {
        "id": "J_l0HcKjs1zm",
        "colab_type": "code",
        "colab": {}
      },
      "source": [
        "#img = ww[0].reshape((28,28))\n",
        "#ww[0].shape\n",
        "#ww[0].size"
      ],
      "execution_count": 0,
      "outputs": []
    },
    {
      "cell_type": "code",
      "metadata": {
        "id": "9hpC47tRavvN",
        "colab_type": "code",
        "colab": {}
      },
      "source": [
        "'''\n",
        "img=ww[0]\n",
        "basewidth = 28 # MNIST image width\n",
        "#img = Image.open('your_input_img.jpg')\n",
        "wpercent = (basewidth/float(img.shape[0]))\n",
        "hsize = int((float(img.shape[1])*float(wpercent)))\n",
        "#img = img.resize((basewidth,hsize), Image.ANTIALIAS)\n",
        "img = img.resize((basewidth,hsize))\n",
        "'''"
      ],
      "execution_count": 0,
      "outputs": []
    },
    {
      "cell_type": "code",
      "metadata": {
        "id": "g_dub7HptKCK",
        "colab_type": "code",
        "colab": {}
      },
      "source": [
        "print(np.array(ww[0]))"
      ],
      "execution_count": 0,
      "outputs": []
    },
    {
      "cell_type": "code",
      "metadata": {
        "id": "PA2rx0vRxVl6",
        "colab_type": "code",
        "colab": {}
      },
      "source": [
        "plt.imshow(ww[0], cmap = \"gray\")"
      ],
      "execution_count": 0,
      "outputs": []
    },
    {
      "cell_type": "code",
      "metadata": {
        "id": "vGHUnBQ9rtVp",
        "colab_type": "code",
        "colab": {}
      },
      "source": [
        "'''\n",
        "xw=[]\n",
        "Size=28\n",
        "for i in range(Num):\n",
        "  xw.append(cv2.resize(np.array(ww[0]),(Size,Size)))\n",
        "'''"
      ],
      "execution_count": 0,
      "outputs": []
    },
    {
      "cell_type": "code",
      "metadata": {
        "id": "DinY6toKu3eN",
        "colab_type": "code",
        "colab": {}
      },
      "source": [
        "\n",
        "data=np.array(ww[0])\n",
        "img = Image.fromarray(data.astype('uint8'), mode='L')\n",
        "plt.imshow(img, cmap = \"gray\")\n"
      ],
      "execution_count": 0,
      "outputs": []
    },
    {
      "cell_type": "code",
      "metadata": {
        "id": "Ss80MEJpQu8k",
        "colab_type": "code",
        "colab": {}
      },
      "source": [
        "Size=28\n",
        "xw=[]\n",
        "# xw.append(cv2.resize(cv2.imread(img),(Size,Size)))\n",
        "# xw.append(cv2.resize(img,(Size,Size)))\n",
        "img=np.float32(img)\n",
        "img=cv2.resize(img,(Size,Size), interpolation = cv2.INTER_AREA)\n",
        "print(img)\n"
      ],
      "execution_count": 0,
      "outputs": []
    },
    {
      "cell_type": "code",
      "metadata": {
        "id": "nlu7tAnfU45r",
        "colab_type": "code",
        "colab": {}
      },
      "source": [
        "# predictions = model.predict(xw[0])\n",
        "#predictions = model.predict(img)\n",
        "# predictions = model.predict(ww[0])\n",
        "result = model.evaluate(np.array(img))"
      ],
      "execution_count": 0,
      "outputs": []
    },
    {
      "cell_type": "code",
      "metadata": {
        "id": "s3QjJ9rvj6qg",
        "colab_type": "code",
        "colab": {}
      },
      "source": [
        "img.shape"
      ],
      "execution_count": 0,
      "outputs": []
    },
    {
      "cell_type": "code",
      "metadata": {
        "id": "n4NuDrgvYAlY",
        "colab_type": "code",
        "colab": {}
      },
      "source": [
        "28*28\n",
        "\n"
      ],
      "execution_count": 0,
      "outputs": []
    },
    {
      "cell_type": "code",
      "metadata": {
        "id": "B0ado7ibadYR",
        "colab_type": "code",
        "colab": {}
      },
      "source": [
        "img.size"
      ],
      "execution_count": 0,
      "outputs": []
    },
    {
      "cell_type": "code",
      "metadata": {
        "id": "QAE6EcrlWtNM",
        "colab_type": "code",
        "colab": {}
      },
      "source": [
        ""
      ],
      "execution_count": 0,
      "outputs": []
    },
    {
      "cell_type": "code",
      "metadata": {
        "id": "bpVl51dTT5ib",
        "colab_type": "code",
        "colab": {}
      },
      "source": [
        "#print(xw)"
      ],
      "execution_count": 0,
      "outputs": []
    }
  ]
}